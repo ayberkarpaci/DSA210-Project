{
 "cells": [
  {
   "cell_type": "code",
   "execution_count": null,
   "id": "8629ddc1-5a56-45b6-97fe-fdf3d94634cf",
   "metadata": {},
   "outputs": [],
   "source": [
    "import pandas as pd\n",
    "import numpy as np\n",
    "\n",
    "# Company symbols and file names\n",
    "companies = [\"AMZN\", \"GOOG\", \"MSFT\", \"TSLA\", \"NVDA\"]\n",
    "\n",
    "# RSI calculation function\n",
    "def compute_rsi(series, period=14):\n",
    "    delta = series.diff()\n",
    "    gain = delta.clip(lower=0)\n",
    "    loss = -1 * delta.clip(upper=0)\n",
    "\n",
    "    avg_gain = gain.rolling(window=period).mean()\n",
    "    avg_loss = loss.rolling(window=period).mean()\n",
    "\n",
    "    rs = avg_gain / avg_loss\n",
    "    rsi = 100 - (100 / (1 + rs))\n",
    "    return rsi\n",
    "\n",
    "# Process each file\n",
    "for company in companies:\n",
    "    input_file = f\"{company}_2025_data.xlsx\"\n",
    "    output_file = f\"{company}_2025_enriched.xlsx\"\n",
    "\n",
    "    try:\n",
    "        df = pd.read_excel(input_file)\n",
    "\n",
    "        # Sort by date\n",
    "        df.sort_values(\"Date\", inplace=True)\n",
    "        df.reset_index(drop=True, inplace=True)\n",
    "\n",
    "        # Calculate log return\n",
    "        df[\"Return\"] = np.log(df[\"Close\"] / df[\"Close\"].shift(1))\n",
    "\n",
    "        # Volatility: 14-day moving standard deviation\n",
    "        df[\"Volatility\"] = df[\"Return\"].rolling(window=14).std()\n",
    "\n",
    "        # RSI\n",
    "        df[\"RSI\"] = compute_rsi(df[\"Close\"], period=14)\n",
    "\n",
    "        # Value: (Close - Open) / Open\n",
    "        df[\"Value\"] = (df[\"Close\"] - df[\"Open\"]) / df[\"Open\"]\n",
    "\n",
    "        # Save to new file\n",
    "        df.to_excel(output_file, index=False)\n",
    "        print(f\"{output_file} successfully created.\")\n",
    "        \n",
    "    except FileNotFoundError:\n",
    "        print(f\"{input_file} not found, skipping.\")"
   ]
  }
 ],
 "metadata": {
  "kernelspec": {
   "display_name": "Python 3 (ipykernel)",
   "language": "python",
   "name": "python3"
  },
  "language_info": {
   "codemirror_mode": {
    "name": "ipython",
    "version": 3
   },
   "file_extension": ".py",
   "mimetype": "text/x-python",
   "name": "python",
   "nbconvert_exporter": "python",
   "pygments_lexer": "ipython3",
   "version": "3.13.3"
  }
 },
 "nbformat": 4,
 "nbformat_minor": 5
}

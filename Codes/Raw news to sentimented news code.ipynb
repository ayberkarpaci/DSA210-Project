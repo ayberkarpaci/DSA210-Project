{
 "cells": [
  {
   "cell_type": "code",
   "execution_count": null,
   "id": "5aaa3ced-81af-4b76-a823-adbca684d652",
   "metadata": {},
   "outputs": [],
   "source": [
    "import pandas as pd\n",
    "from textblob import TextBlob\n",
    "\n",
    "# Company symbols\n",
    "companies = [\"MSFT\", \"GOOG\", \"TSLA\", \"NVDA\", \"AMZN\"]\n",
    "\n",
    "# Sentiment analysis functions\n",
    "def get_sentiment_score(text):\n",
    "    return round(TextBlob(str(text)).sentiment.polarity, 3)\n",
    "\n",
    "def get_sentiment_label(score):\n",
    "    if score > 0.1:\n",
    "        return \"positive\"\n",
    "    elif score < -0.1:\n",
    "        return \"negative\"\n",
    "    else:\n",
    "        return \"neutral\"\n",
    "\n",
    "# Process each company's data\n",
    "for company in companies:\n",
    "    input_file = f\"{company}_news.xlsx\"\n",
    "    output_file = f\"{company}_news_with_sentiment.xlsx\"\n",
    "\n",
    "    try:\n",
    "        df = pd.read_excel(input_file)\n",
    "\n",
    "        # Apply sentiment analysis\n",
    "        df['sentiment_score'] = df['title'].apply(get_sentiment_score)\n",
    "        df['sentiment'] = df['sentiment_score'].apply(get_sentiment_label)\n",
    "\n",
    "        # Save to new file\n",
    "        df.to_excel(output_file, index=False)\n",
    "        print(f\"{output_file} created successfully.\")\n",
    "    except FileNotFoundError:\n",
    "        print(f\"{input_file} not found, skipping.\")"
   ]
  }
 ],
 "metadata": {
  "kernelspec": {
   "display_name": "Python 3 (ipykernel)",
   "language": "python",
   "name": "python3"
  },
  "language_info": {
   "codemirror_mode": {
    "name": "ipython",
    "version": 3
   },
   "file_extension": ".py",
   "mimetype": "text/x-python",
   "name": "python",
   "nbconvert_exporter": "python",
   "pygments_lexer": "ipython3",
   "version": "3.13.3"
  }
 },
 "nbformat": 4,
 "nbformat_minor": 5
}

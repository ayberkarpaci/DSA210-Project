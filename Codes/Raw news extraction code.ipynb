{
 "cells": [
  {
   "cell_type": "code",
   "execution_count": null,
   "id": "0b0bd9eb-b004-4f60-b275-5cf159dd78b6",
   "metadata": {},
   "outputs": [],
   "source": [
    "from GoogleNews import GoogleNews\n",
    "import pandas as pd\n",
    "from datetime import datetime\n",
    "\n",
    "# Company symbols and name mapping\n",
    "companies = {\n",
    "    \"MSFT\": \"Microsoft\",\n",
    "    \"GOOG\": \"Google\",\n",
    "    \"TSLA\": \"Tesla\",\n",
    "    \"NVDA\": \"Nvidia\",\n",
    "    \"AMZN\": \"Amazon\"\n",
    "}\n",
    "\n",
    "# Fetch news for each company\n",
    "for symbol, name in companies.items():\n",
    "    print(f\"Searching for news about {name}...\")\n",
    "\n",
    "    googlenews = GoogleNews(lang='en', period='custom')\n",
    "    googlenews.set_time_range('01/01/2025', '04/30/2025')\n",
    "    googlenews.search(f\"{name} AI investment\")\n",
    "\n",
    "    results = googlenews.results()\n",
    "    df = pd.DataFrame(results)\n",
    "\n",
    "    if not df.empty:\n",
    "        # Remove unnecessary columns, format date\n",
    "        df = df[['title', 'date', 'link']]\n",
    "        df.rename(columns={'date': 'Date', 'title': 'title', 'link': 'link'}, inplace=True)\n",
    "\n",
    "        # Convert dates to datetime format for sorting\n",
    "        def parse_date(date_str):\n",
    "            try:\n",
    "                return datetime.strptime(date_str, \"%b %d, %Y\")\n",
    "            except:\n",
    "                return pd.NaT\n",
    "\n",
    "        df['Date'] = df['Date'].apply(parse_date)\n",
    "        df.dropna(subset=['Date'], inplace=True)\n",
    "        df.sort_values(by='Date', inplace=True)\n",
    "\n",
    "        # Add company and month columns\n",
    "        df.insert(0, 'company', symbol)\n",
    "        df.insert(1, 'month', df['Date'].dt.strftime('%B'))\n",
    "\n",
    "        # Reorder columns\n",
    "        df = df[['company', 'month', 'Date', 'title', 'link']]\n",
    "\n",
    "        # Save to Excel\n",
    "        df.to_excel(f\"{symbol}_news.xlsx\", index=False)\n",
    "        print(f\"{symbol} news saved successfully.\")\n",
    "    else:\n",
    "        print(f\"No news found for {symbol}.\")"
   ]
  }
 ],
 "metadata": {
  "kernelspec": {
   "display_name": "Python 3 (ipykernel)",
   "language": "python",
   "name": "python3"
  },
  "language_info": {
   "codemirror_mode": {
    "name": "ipython",
    "version": 3
   },
   "file_extension": ".py",
   "mimetype": "text/x-python",
   "name": "python",
   "nbconvert_exporter": "python",
   "pygments_lexer": "ipython3",
   "version": "3.13.3"
  }
 },
 "nbformat": 4,
 "nbformat_minor": 5
}

{
 "cells": [
  {
   "cell_type": "code",
   "execution_count": null,
   "id": "76ed7f56-1e7f-4017-8965-2e4467ad5a67",
   "metadata": {},
   "outputs": [],
   "source": [
    "import yfinance as yf\n",
    "\n",
    "# Define company symbols\n",
    "companies = [\"MSFT\", \"GOOG\", \"TSLA\", \"NVDA\", \"AMZN\"]\n",
    "\n",
    "# Download stock price data for each company\n",
    "for company in companies:\n",
    "    data = yf.download(company, start=\"2025-01-01\", end=\"2025-04-31\")\n",
    "    data.to_csv(f\"{company}_stock_data.csv\")  # Save as CSV\n",
    "    print(f\"{company} data downloaded.\")\n"
   ]
  }
 ],
 "metadata": {
  "kernelspec": {
   "display_name": "Python 3 (ipykernel)",
   "language": "python",
   "name": "python3"
  },
  "language_info": {
   "codemirror_mode": {
    "name": "ipython",
    "version": 3
   },
   "file_extension": ".py",
   "mimetype": "text/x-python",
   "name": "python",
   "nbconvert_exporter": "python",
   "pygments_lexer": "ipython3",
   "version": "3.13.3"
  }
 },
 "nbformat": 4,
 "nbformat_minor": 5
}
